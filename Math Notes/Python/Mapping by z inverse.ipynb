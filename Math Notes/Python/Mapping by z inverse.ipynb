{
 "cells": [
  {
   "cell_type": "markdown",
   "id": "excellent-anatomy",
   "metadata": {},
   "source": [
    "# Mapping by $1/z$"
   ]
  },
  {
   "cell_type": "code",
   "execution_count": 1,
   "id": "numeric-clone",
   "metadata": {},
   "outputs": [],
   "source": [
    "import numpy as np\n",
    "import matplotlib as mp\n",
    "import matplotlib.pyplot as plt\n",
    "from IPython.display import Math, display\n",
    "\n",
    "%config InlineBackend.figure_format = 'pdf'"
   ]
  },
  {
   "cell_type": "code",
   "execution_count": 2,
   "id": "african-afghanistan",
   "metadata": {},
   "outputs": [],
   "source": [
    "# The Equation\n",
    "# ============\n",
    "def eqn(x, A, B, C, D):\n",
    "    a = A\n",
    "    b = C\n",
    "    d = A*x**2 + B*x + D\n",
    "    Y_p = (-b + (b**2 - 4*a*d)**0.5)/(2*a)\n",
    "    Y_m = (-b - (b**2 - 4*a*d)**0.5)/(2*a)\n",
    "    return Y_p, Y_m\n",
    "\n",
    "def mapping(x, A, B, C, D):\n",
    "    Y_p, Y_m = eqn(x, A, B, C, D)\n",
    "    U_p, U_m = eqn(x, D, B, -C, A)\n",
    "    return Y_p, Y_m, U_p, U_m\n",
    "\n",
    "def graph(x, A, B, C, D):\n",
    "    Y_p, Y_m, U_p, U_m = mapping(x, A, B, C, D)\n",
    "    X = np.append(x, x, axis=1)\n",
    "    Y = np.append(Y_p, Y_m, axis=1)\n",
    "    U = np.append(U_p, U_m, axis=1)\n",
    "    fig, ax = plt.subplots(1, 2, figsize = (10, 4))\n",
    "    for i in range(0, np.shape(D)[1]):\n",
    "        ax[0].plot(X[i], Y[i])\n",
    "        ax[1].plot(X[i], U[i])\n",
    "        i += 1\n",
    "    plt.tight_layout()\n",
    "    plt.show()"
   ]
  },
  {
   "cell_type": "code",
   "execution_count": 3,
   "id": "advanced-raleigh",
   "metadata": {},
   "outputs": [],
   "source": [
    "V, X = np.mgrid[0.1:1.1:0.1, 0.1:1.1:0.1]\n",
    "O = np.zeros((np.shape(V)[0], np.shape(V)[1]))"
   ]
  },
  {
   "cell_type": "code",
   "execution_count": 4,
   "id": "weighted-fourth",
   "metadata": {},
   "outputs": [
    {
     "name": "stderr",
     "output_type": "stream",
     "text": [
      "/Users/kev/anaconda3/lib/python3.7/site-packages/ipykernel_launcher.py:7: RuntimeWarning: invalid value encountered in sqrt\n",
      "  import sys\n",
      "/Users/kev/anaconda3/lib/python3.7/site-packages/ipykernel_launcher.py:8: RuntimeWarning: invalid value encountered in sqrt\n",
      "  \n"
     ]
    }
   ],
   "source": [
    "Y_p, Y_m, U_p, U_m = mapping(X, V, O, O, O-1)"
   ]
  },
  {
   "cell_type": "code",
   "execution_count": 5,
   "id": "acknowledged-sister",
   "metadata": {},
   "outputs": [
    {
     "name": "stderr",
     "output_type": "stream",
     "text": [
      "/Users/kev/anaconda3/lib/python3.7/site-packages/ipykernel_launcher.py:7: RuntimeWarning: invalid value encountered in sqrt\n",
      "  import sys\n",
      "/Users/kev/anaconda3/lib/python3.7/site-packages/ipykernel_launcher.py:8: RuntimeWarning: invalid value encountered in sqrt\n",
      "  \n"
     ]
    },
    {
     "data": {
      "application/pdf": "[encoded data removed]",
      "text/plain": [
       "<Figure size 720x288 with 2 Axes>"
      ]
     },
     "metadata": {
      "needs_background": "light"
     },
     "output_type": "display_data"
    }
   ],
   "source": [
    "graph(X, V, O, O, O-1)"
   ]
  },
  {
   "cell_type": "code",
   "execution_count": null,
   "id": "minor-reader",
   "metadata": {},
   "outputs": [],
   "source": []
  }
 ],
 "metadata": {
  "kernelspec": {
   "display_name": "Python 3",
   "language": "python",
   "name": "python3"
  },
  "language_info": {
   "codemirror_mode": {
    "name": "ipython",
    "version": 3
   },
   "file_extension": ".py",
   "mimetype": "text/x-python",
   "name": "python",
   "nbconvert_exporter": "python",
   "pygments_lexer": "ipython3",
   "version": "3.7.9"
  }
 },
 "nbformat": 4,
 "nbformat_minor": 5
}
